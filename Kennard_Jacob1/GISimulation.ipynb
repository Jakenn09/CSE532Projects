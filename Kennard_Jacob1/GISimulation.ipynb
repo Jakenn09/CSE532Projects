{
 "cells": [
  {
   "cell_type": "code",
   "execution_count": 6,
   "metadata": {},
   "outputs": [
    {
     "name": "stdout",
     "output_type": "stream",
     "text": [
      "Second: 1\n",
      "The Golumn is 46 feet below.\n",
      "The Imp is 42 feet below\n",
      "Second: 2\n",
      "The Golumn is 43 feet below.\n",
      "The Imp is 37 feet below\n",
      "Second: 3\n",
      "The Golumn is 39 feet below.\n",
      "The Imp is 30 feet below\n",
      "Second: 4\n",
      "The Golumn is 35 feet below.\n",
      "The Imp is 25 feet below\n",
      "Second: 5\n",
      "The Golumn is 32 feet below.\n",
      "The Imp is 20 feet below\n",
      "Second: 6\n",
      "The Golumn is 29 feet below.\n",
      "The Imp is 18 feet below\n",
      "Second: 7\n",
      "The Golumn is 26 feet below.\n",
      "The Imp is 14 feet below\n",
      "Second: 8\n",
      "The Golumn is 23 feet below.\n",
      "The Imp is 10 feet below\n",
      "Second: 9\n",
      "The Golumn is 20 feet below.\n",
      "The Imp is 5 feet below\n",
      "Second: 10\n",
      "The Golumn is 17 feet below.\n",
      "The Imp is -2 feet below\n",
      "\n",
      "THE IMP REACHED THE TOP AND ESCAPED\n"
     ]
    }
   ],
   "source": [
    "# import library for random to simulate movement and time to help visualize the looping \n",
    "import random \n",
    "import time \n",
    "\n",
    "# inital staring position for golummn and imp are assigned to variables and time for displaying the number of loops \n",
    "\n",
    "golumnPosition = 0\n",
    "impPosition = 5\n",
    "currentTime = 1\n",
    "\n",
    " \n",
    "\n",
    "while True: # while loop is utilized until False or break \n",
    "    golumnMove = random.randint(3,5) # ranint() function used to move golumn\n",
    "    golumnPosition += golumnMove # update the golumns position\n",
    "\n",
    "    impMove = random.randint(1,9) # used to move imp \n",
    "    impPosition += impMove # update imps position\n",
    "\n",
    "    # 3 prints statements are used to update the loops current time, the imps position, and the golumns posisition\n",
    "\n",
    "    print(\"Second: \" + str(currentTime)) \n",
    "    print('The Golumn is ' + str(50 - golumnPosition) + ' feet below.')\n",
    "    print('The Imp is ' + str(50 - impPosition) + ' feet below')\n",
    "\n",
    "    # 2 conditions need to be met in order for the loop to end and the program to terminate with our result. \n",
    "    # if the golumn catches up to the imp or if the imp escapes by reaching the top, the loop will break and the resul will print\n",
    "\n",
    "    if impPosition >= 50:\n",
    "        print('\\n'+\"THE IMP REACHED THE TOP AND ESCAPED\")\n",
    "        break\n",
    "    if golumnPosition >= impPosition:\n",
    "        print('\\n' + \"THE GOLUMN CAUGHT THE IMP\")\n",
    "        break\n",
    "\n",
    "    # increment time to show each progression in the loop\n",
    "\n",
    "    currentTime += 1\n",
    "\n",
    "    # Delay by .5 seconds each loop for easier visibility.\n",
    "\n",
    "    time.sleep(.5)\n",
    "\n"
   ]
  }
 ],
 "metadata": {
  "kernelspec": {
   "display_name": "Python 3",
   "language": "python",
   "name": "python3"
  },
  "language_info": {
   "codemirror_mode": {
    "name": "ipython",
    "version": 3
   },
   "file_extension": ".py",
   "mimetype": "text/x-python",
   "name": "python",
   "nbconvert_exporter": "python",
   "pygments_lexer": "ipython3",
   "version": "3.8.2"
  }
 },
 "nbformat": 4,
 "nbformat_minor": 2
}
